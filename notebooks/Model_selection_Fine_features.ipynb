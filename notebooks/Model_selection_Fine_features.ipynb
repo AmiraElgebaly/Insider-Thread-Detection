{
  "nbformat": 4,
  "nbformat_minor": 0,
  "metadata": {
    "colab": {
      "name": "Model_selection_Fine_features.ipynb",
      "provenance": []
    },
    "kernelspec": {
      "name": "python3",
      "display_name": "Python 3"
    },
    "language_info": {
      "name": "python"
    }
  },
  "cells": [
    {
      "cell_type": "code",
      "execution_count": null,
      "metadata": {
        "id": "MTMwQQzr2C3l"
      },
      "outputs": [],
      "source": [
        "import pandas as pd\n",
        "import numpy as np\n",
        "import os\n",
        "from datetime import timedelta \n",
        "import matplotlib.pyplot as plt\n",
        "import tensorflow as tf\n",
        "import keras\n",
        "import seaborn as sns\n",
        "import glob\n",
        "import re"
      ]
    },
    {
      "cell_type": "code",
      "source": [
        "from google.colab import drive\n",
        "drive.mount('/content/drive', force_remount=True)"
      ],
      "metadata": {
        "colab": {
          "base_uri": "https://localhost:8080/"
        },
        "id": "gPnUnxXU2FAw",
        "outputId": "79922e29-d2c0-44a9-b857-c2266ba9ed17"
      },
      "execution_count": null,
      "outputs": [
        {
          "output_type": "stream",
          "name": "stdout",
          "text": [
            "Mounted at /content/drive\n"
          ]
        }
      ]
    },
    {
      "cell_type": "code",
      "source": [
        "root_path = '/content/drive/MyDrive/uOttawa/AI_for_CyberSecurity/InsiderThreatDetection'\n",
        "answers_path = os.path.join(root_path,'answers')\n",
        "fine_dataset_path = os.path.join(root_path,'sampled dataset')\n",
        "coarse_features_path = '/content/drive/MyDrive/uOttawa/AI_for_CyberSecurity/InsiderThreatDetection/CS Processed Features/merged_features.csv'"
      ],
      "metadata": {
        "id": "aKCQeZ3_2GYE"
      },
      "execution_count": null,
      "outputs": []
    },
    {
      "cell_type": "markdown",
      "source": [
        "# Load LDAP, answers, and get malicious users"
      ],
      "metadata": {
        "id": "8NZZpUEW3Au0"
      }
    },
    {
      "cell_type": "code",
      "source": [
        "DATASET_VER = 5.2\n",
        "insiders_df = pd.read_csv(os.path.join(answers_path,\"insiders.csv\"))\n",
        "insiders_df = insiders_df[(insiders_df['dataset'] == DATASET_VER)]\n",
        "insiders_df['start'] = pd.to_datetime(insiders_df['start'])\n",
        "insiders_df = insiders_df.sort_values(by='start', ascending=True)\n",
        "insiders_df.head()"
      ],
      "metadata": {
        "colab": {
          "base_uri": "https://localhost:8080/",
          "height": 206
        },
        "id": "Bg_j7Qma2T0y",
        "outputId": "3e6a1767-8c28-46ac-ae6f-80a9ca830cfc"
      },
      "execution_count": null,
      "outputs": [
        {
          "output_type": "execute_result",
          "data": {
            "text/plain": [
              "     dataset  scenario             details     user               start  \\\n",
              "177      5.2         4  r5.2-4-OHS0036.csv  OHS0036 2010-04-16 12:32:57   \n",
              "148      5.2         3  r5.2-3-MPF0690.csv  MPF0690 2010-06-17 10:00:38   \n",
              "111      5.2         2  r5.2-2-VCF1602.csv  VCF1602 2010-06-23 15:32:14   \n",
              "128      5.2         2  r5.2-2-CKP0630.csv  CKP0630 2010-06-28 08:13:30   \n",
              "115      5.2         2  r5.2-2-ZIE0741.csv  ZIE0741 2010-06-29 13:16:09   \n",
              "\n",
              "                     end  \n",
              "177  07/09/2010 10:32:40  \n",
              "148  06/18/2010 20:22:06  \n",
              "111  08/11/2010 18:01:01  \n",
              "128  08/13/2010 12:59:03  \n",
              "115  08/27/2010 18:13:31  "
            ],
            "text/html": [
              "\n",
              "  <div id=\"df-d15edd1c-c76a-4ad2-8400-cccc14570538\">\n",
              "    <div class=\"colab-df-container\">\n",
              "      <div>\n",
              "<style scoped>\n",
              "    .dataframe tbody tr th:only-of-type {\n",
              "        vertical-align: middle;\n",
              "    }\n",
              "\n",
              "    .dataframe tbody tr th {\n",
              "        vertical-align: top;\n",
              "    }\n",
              "\n",
              "    .dataframe thead th {\n",
              "        text-align: right;\n",
              "    }\n",
              "</style>\n",
              "<table border=\"1\" class=\"dataframe\">\n",
              "  <thead>\n",
              "    <tr style=\"text-align: right;\">\n",
              "      <th></th>\n",
              "      <th>dataset</th>\n",
              "      <th>scenario</th>\n",
              "      <th>details</th>\n",
              "      <th>user</th>\n",
              "      <th>start</th>\n",
              "      <th>end</th>\n",
              "    </tr>\n",
              "  </thead>\n",
              "  <tbody>\n",
              "    <tr>\n",
              "      <th>177</th>\n",
              "      <td>5.2</td>\n",
              "      <td>4</td>\n",
              "      <td>r5.2-4-OHS0036.csv</td>\n",
              "      <td>OHS0036</td>\n",
              "      <td>2010-04-16 12:32:57</td>\n",
              "      <td>07/09/2010 10:32:40</td>\n",
              "    </tr>\n",
              "    <tr>\n",
              "      <th>148</th>\n",
              "      <td>5.2</td>\n",
              "      <td>3</td>\n",
              "      <td>r5.2-3-MPF0690.csv</td>\n",
              "      <td>MPF0690</td>\n",
              "      <td>2010-06-17 10:00:38</td>\n",
              "      <td>06/18/2010 20:22:06</td>\n",
              "    </tr>\n",
              "    <tr>\n",
              "      <th>111</th>\n",
              "      <td>5.2</td>\n",
              "      <td>2</td>\n",
              "      <td>r5.2-2-VCF1602.csv</td>\n",
              "      <td>VCF1602</td>\n",
              "      <td>2010-06-23 15:32:14</td>\n",
              "      <td>08/11/2010 18:01:01</td>\n",
              "    </tr>\n",
              "    <tr>\n",
              "      <th>128</th>\n",
              "      <td>5.2</td>\n",
              "      <td>2</td>\n",
              "      <td>r5.2-2-CKP0630.csv</td>\n",
              "      <td>CKP0630</td>\n",
              "      <td>2010-06-28 08:13:30</td>\n",
              "      <td>08/13/2010 12:59:03</td>\n",
              "    </tr>\n",
              "    <tr>\n",
              "      <th>115</th>\n",
              "      <td>5.2</td>\n",
              "      <td>2</td>\n",
              "      <td>r5.2-2-ZIE0741.csv</td>\n",
              "      <td>ZIE0741</td>\n",
              "      <td>2010-06-29 13:16:09</td>\n",
              "      <td>08/27/2010 18:13:31</td>\n",
              "    </tr>\n",
              "  </tbody>\n",
              "</table>\n",
              "</div>\n",
              "      <button class=\"colab-df-convert\" onclick=\"convertToInteractive('df-d15edd1c-c76a-4ad2-8400-cccc14570538')\"\n",
              "              title=\"Convert this dataframe to an interactive table.\"\n",
              "              style=\"display:none;\">\n",
              "        \n",
              "  <svg xmlns=\"http://www.w3.org/2000/svg\" height=\"24px\"viewBox=\"0 0 24 24\"\n",
              "       width=\"24px\">\n",
              "    <path d=\"M0 0h24v24H0V0z\" fill=\"none\"/>\n",
              "    <path d=\"M18.56 5.44l.94 2.06.94-2.06 2.06-.94-2.06-.94-.94-2.06-.94 2.06-2.06.94zm-11 1L8.5 8.5l.94-2.06 2.06-.94-2.06-.94L8.5 2.5l-.94 2.06-2.06.94zm10 10l.94 2.06.94-2.06 2.06-.94-2.06-.94-.94-2.06-.94 2.06-2.06.94z\"/><path d=\"M17.41 7.96l-1.37-1.37c-.4-.4-.92-.59-1.43-.59-.52 0-1.04.2-1.43.59L10.3 9.45l-7.72 7.72c-.78.78-.78 2.05 0 2.83L4 21.41c.39.39.9.59 1.41.59.51 0 1.02-.2 1.41-.59l7.78-7.78 2.81-2.81c.8-.78.8-2.07 0-2.86zM5.41 20L4 18.59l7.72-7.72 1.47 1.35L5.41 20z\"/>\n",
              "  </svg>\n",
              "      </button>\n",
              "      \n",
              "  <style>\n",
              "    .colab-df-container {\n",
              "      display:flex;\n",
              "      flex-wrap:wrap;\n",
              "      gap: 12px;\n",
              "    }\n",
              "\n",
              "    .colab-df-convert {\n",
              "      background-color: #E8F0FE;\n",
              "      border: none;\n",
              "      border-radius: 50%;\n",
              "      cursor: pointer;\n",
              "      display: none;\n",
              "      fill: #1967D2;\n",
              "      height: 32px;\n",
              "      padding: 0 0 0 0;\n",
              "      width: 32px;\n",
              "    }\n",
              "\n",
              "    .colab-df-convert:hover {\n",
              "      background-color: #E2EBFA;\n",
              "      box-shadow: 0px 1px 2px rgba(60, 64, 67, 0.3), 0px 1px 3px 1px rgba(60, 64, 67, 0.15);\n",
              "      fill: #174EA6;\n",
              "    }\n",
              "\n",
              "    [theme=dark] .colab-df-convert {\n",
              "      background-color: #3B4455;\n",
              "      fill: #D2E3FC;\n",
              "    }\n",
              "\n",
              "    [theme=dark] .colab-df-convert:hover {\n",
              "      background-color: #434B5C;\n",
              "      box-shadow: 0px 1px 3px 1px rgba(0, 0, 0, 0.15);\n",
              "      filter: drop-shadow(0px 1px 2px rgba(0, 0, 0, 0.3));\n",
              "      fill: #FFFFFF;\n",
              "    }\n",
              "  </style>\n",
              "\n",
              "      <script>\n",
              "        const buttonEl =\n",
              "          document.querySelector('#df-d15edd1c-c76a-4ad2-8400-cccc14570538 button.colab-df-convert');\n",
              "        buttonEl.style.display =\n",
              "          google.colab.kernel.accessAllowed ? 'block' : 'none';\n",
              "\n",
              "        async function convertToInteractive(key) {\n",
              "          const element = document.querySelector('#df-d15edd1c-c76a-4ad2-8400-cccc14570538');\n",
              "          const dataTable =\n",
              "            await google.colab.kernel.invokeFunction('convertToInteractive',\n",
              "                                                     [key], {});\n",
              "          if (!dataTable) return;\n",
              "\n",
              "          const docLinkHtml = 'Like what you see? Visit the ' +\n",
              "            '<a target=\"_blank\" href=https://colab.research.google.com/notebooks/data_table.ipynb>data table notebook</a>'\n",
              "            + ' to learn more about interactive tables.';\n",
              "          element.innerHTML = '';\n",
              "          dataTable['output_type'] = 'display_data';\n",
              "          await google.colab.output.renderOutput(dataTable, element);\n",
              "          const docLink = document.createElement('div');\n",
              "          docLink.innerHTML = docLinkHtml;\n",
              "          element.appendChild(docLink);\n",
              "        }\n",
              "      </script>\n",
              "    </div>\n",
              "  </div>\n",
              "  "
            ]
          },
          "metadata": {},
          "execution_count": 6
        }
      ]
    },
    {
      "cell_type": "code",
      "source": [
        "# get user functional dictionary\n",
        "all_files = glob.glob(os.path.join(fine_dataset_path,\"LDAP/*.csv\"))\n",
        "li = []\n",
        "for filename in all_files:\n",
        "    df = pd.read_csv(filename, index_col=None, header=0)\n",
        "    li.append(df)\n",
        "LDAP_df = pd.concat(li, axis=0, ignore_index=True).drop_duplicates()\n",
        "\n",
        "print(f'length of LDAP : {len(LDAP_df)}')\n",
        "LDAP_df.head(10)"
      ],
      "metadata": {
        "colab": {
          "base_uri": "https://localhost:8080/",
          "height": 381
        },
        "id": "vnd-fmJF2YYV",
        "outputId": "b7aa70b2-7372-4998-b0dd-f0799355b66a"
      },
      "execution_count": null,
      "outputs": [
        {
          "output_type": "stream",
          "name": "stdout",
          "text": [
            "length of LDAP : 3581\n"
          ]
        },
        {
          "output_type": "execute_result",
          "data": {
            "text/plain": [
              "              employee_name  user_id                              email  \\\n",
              "0        Maisie Maggy Kline  MMK1532        Maisie.Maggy.Kline@dtaa.com   \n",
              "1         Nicole Tanya Burt  NTB0710         Nicole.Tanya.Burt@dtaa.com   \n",
              "2  Madeline Tatum Donaldson  MTD0971  Madeline.Tatum.Donaldson@dtaa.com   \n",
              "3  Nicholas Hamish Browning  NHB1529  Nicholas.Hamish.Browning@dtaa.com   \n",
              "4           Hoyt Berk Wiley  HBW0057           Hoyt.Berk.Wiley@dtaa.com   \n",
              "5     Patience Lesley Mccoy  PLM1716     Patience.Lesley.Mccoy@dtaa.com   \n",
              "6        Ulric Kirk Guthrie  UKG0386        Ulric.Kirk.Guthrie@dtaa.com   \n",
              "7  Guinevere Lisandra Chang  GLC1055  Guinevere.Lisandra.Chang@dtaa.com   \n",
              "8       Ulric Ciaran Dunlap  UCD0608       Ulric.Ciaran.Dunlap@dtaa.com   \n",
              "9        Coby Baxter Nguyen  CBN1983        Coby.Baxter.Nguyen@dtaa.com   \n",
              "\n",
              "                      role   projects  business_unit  \\\n",
              "0               Technician        NaN  2 - Executive   \n",
              "1  SoftwareQualityEngineer  Project 2  2 - Executive   \n",
              "2       ElectricalEngineer        NaN  1 - Executive   \n",
              "3               Technician        NaN  2 - Executive   \n",
              "4           ProjectManager        NaN  1 - Executive   \n",
              "5                 Salesman        NaN  2 - Executive   \n",
              "6     ProductionLineWorker        NaN  2 - Executive   \n",
              "7     ProductionLineWorker        NaN  1 - Executive   \n",
              "8           StockroomClerk        NaN  1 - Executive   \n",
              "9               LabManager        NaN  1 - Executive   \n",
              "\n",
              "              functional_unit              department  \\\n",
              "0       5 - SalesAndMarketing        3 - FieldService   \n",
              "1  2 - ResearchAndEngineering  3 - SoftwareManagement   \n",
              "2  2 - ResearchAndEngineering  3 - SoftwareManagement   \n",
              "3       5 - SalesAndMarketing        3 - FieldService   \n",
              "4  2 - ResearchAndEngineering   1 - ProjectManagement   \n",
              "5       5 - SalesAndMarketing               2 - Sales   \n",
              "6           3 - Manufacturing            3 - Assembly   \n",
              "7           3 - Manufacturing            3 - Assembly   \n",
              "8           3 - Manufacturing            3 - Assembly   \n",
              "9  2 - ResearchAndEngineering            2 - Research   \n",
              "\n",
              "                       team                  supervisor  \n",
              "0  3 - RegionalFieldService         Yvette Naomi Cortez  \n",
              "1                   1 - SQA  Brennan Thaddeus Dominguez  \n",
              "2      6 - EmbeddedSoftware         Todd Rajah Peterson  \n",
              "3  3 - RegionalFieldService         Yvette Naomi Cortez  \n",
              "4                       NaN             Rina Adena Horn  \n",
              "5         4 - RegionalSales       Ethan Branden Garrett  \n",
              "6          1 - AssemblyDept     Prescott Jasper Collins  \n",
              "7          4 - AssemblyDept      Evangeline Yoko Malone  \n",
              "8             1 - Stockroom    Sydney Genevieve Nichols  \n",
              "9                   6 - Lab     Dominique Karly Charles  "
            ],
            "text/html": [
              "\n",
              "  <div id=\"df-06997d91-39cf-4950-ace3-8f5b2f228434\">\n",
              "    <div class=\"colab-df-container\">\n",
              "      <div>\n",
              "<style scoped>\n",
              "    .dataframe tbody tr th:only-of-type {\n",
              "        vertical-align: middle;\n",
              "    }\n",
              "\n",
              "    .dataframe tbody tr th {\n",
              "        vertical-align: top;\n",
              "    }\n",
              "\n",
              "    .dataframe thead th {\n",
              "        text-align: right;\n",
              "    }\n",
              "</style>\n",
              "<table border=\"1\" class=\"dataframe\">\n",
              "  <thead>\n",
              "    <tr style=\"text-align: right;\">\n",
              "      <th></th>\n",
              "      <th>employee_name</th>\n",
              "      <th>user_id</th>\n",
              "      <th>email</th>\n",
              "      <th>role</th>\n",
              "      <th>projects</th>\n",
              "      <th>business_unit</th>\n",
              "      <th>functional_unit</th>\n",
              "      <th>department</th>\n",
              "      <th>team</th>\n",
              "      <th>supervisor</th>\n",
              "    </tr>\n",
              "  </thead>\n",
              "  <tbody>\n",
              "    <tr>\n",
              "      <th>0</th>\n",
              "      <td>Maisie Maggy Kline</td>\n",
              "      <td>MMK1532</td>\n",
              "      <td>Maisie.Maggy.Kline@dtaa.com</td>\n",
              "      <td>Technician</td>\n",
              "      <td>NaN</td>\n",
              "      <td>2 - Executive</td>\n",
              "      <td>5 - SalesAndMarketing</td>\n",
              "      <td>3 - FieldService</td>\n",
              "      <td>3 - RegionalFieldService</td>\n",
              "      <td>Yvette Naomi Cortez</td>\n",
              "    </tr>\n",
              "    <tr>\n",
              "      <th>1</th>\n",
              "      <td>Nicole Tanya Burt</td>\n",
              "      <td>NTB0710</td>\n",
              "      <td>Nicole.Tanya.Burt@dtaa.com</td>\n",
              "      <td>SoftwareQualityEngineer</td>\n",
              "      <td>Project 2</td>\n",
              "      <td>2 - Executive</td>\n",
              "      <td>2 - ResearchAndEngineering</td>\n",
              "      <td>3 - SoftwareManagement</td>\n",
              "      <td>1 - SQA</td>\n",
              "      <td>Brennan Thaddeus Dominguez</td>\n",
              "    </tr>\n",
              "    <tr>\n",
              "      <th>2</th>\n",
              "      <td>Madeline Tatum Donaldson</td>\n",
              "      <td>MTD0971</td>\n",
              "      <td>Madeline.Tatum.Donaldson@dtaa.com</td>\n",
              "      <td>ElectricalEngineer</td>\n",
              "      <td>NaN</td>\n",
              "      <td>1 - Executive</td>\n",
              "      <td>2 - ResearchAndEngineering</td>\n",
              "      <td>3 - SoftwareManagement</td>\n",
              "      <td>6 - EmbeddedSoftware</td>\n",
              "      <td>Todd Rajah Peterson</td>\n",
              "    </tr>\n",
              "    <tr>\n",
              "      <th>3</th>\n",
              "      <td>Nicholas Hamish Browning</td>\n",
              "      <td>NHB1529</td>\n",
              "      <td>Nicholas.Hamish.Browning@dtaa.com</td>\n",
              "      <td>Technician</td>\n",
              "      <td>NaN</td>\n",
              "      <td>2 - Executive</td>\n",
              "      <td>5 - SalesAndMarketing</td>\n",
              "      <td>3 - FieldService</td>\n",
              "      <td>3 - RegionalFieldService</td>\n",
              "      <td>Yvette Naomi Cortez</td>\n",
              "    </tr>\n",
              "    <tr>\n",
              "      <th>4</th>\n",
              "      <td>Hoyt Berk Wiley</td>\n",
              "      <td>HBW0057</td>\n",
              "      <td>Hoyt.Berk.Wiley@dtaa.com</td>\n",
              "      <td>ProjectManager</td>\n",
              "      <td>NaN</td>\n",
              "      <td>1 - Executive</td>\n",
              "      <td>2 - ResearchAndEngineering</td>\n",
              "      <td>1 - ProjectManagement</td>\n",
              "      <td>NaN</td>\n",
              "      <td>Rina Adena Horn</td>\n",
              "    </tr>\n",
              "    <tr>\n",
              "      <th>5</th>\n",
              "      <td>Patience Lesley Mccoy</td>\n",
              "      <td>PLM1716</td>\n",
              "      <td>Patience.Lesley.Mccoy@dtaa.com</td>\n",
              "      <td>Salesman</td>\n",
              "      <td>NaN</td>\n",
              "      <td>2 - Executive</td>\n",
              "      <td>5 - SalesAndMarketing</td>\n",
              "      <td>2 - Sales</td>\n",
              "      <td>4 - RegionalSales</td>\n",
              "      <td>Ethan Branden Garrett</td>\n",
              "    </tr>\n",
              "    <tr>\n",
              "      <th>6</th>\n",
              "      <td>Ulric Kirk Guthrie</td>\n",
              "      <td>UKG0386</td>\n",
              "      <td>Ulric.Kirk.Guthrie@dtaa.com</td>\n",
              "      <td>ProductionLineWorker</td>\n",
              "      <td>NaN</td>\n",
              "      <td>2 - Executive</td>\n",
              "      <td>3 - Manufacturing</td>\n",
              "      <td>3 - Assembly</td>\n",
              "      <td>1 - AssemblyDept</td>\n",
              "      <td>Prescott Jasper Collins</td>\n",
              "    </tr>\n",
              "    <tr>\n",
              "      <th>7</th>\n",
              "      <td>Guinevere Lisandra Chang</td>\n",
              "      <td>GLC1055</td>\n",
              "      <td>Guinevere.Lisandra.Chang@dtaa.com</td>\n",
              "      <td>ProductionLineWorker</td>\n",
              "      <td>NaN</td>\n",
              "      <td>1 - Executive</td>\n",
              "      <td>3 - Manufacturing</td>\n",
              "      <td>3 - Assembly</td>\n",
              "      <td>4 - AssemblyDept</td>\n",
              "      <td>Evangeline Yoko Malone</td>\n",
              "    </tr>\n",
              "    <tr>\n",
              "      <th>8</th>\n",
              "      <td>Ulric Ciaran Dunlap</td>\n",
              "      <td>UCD0608</td>\n",
              "      <td>Ulric.Ciaran.Dunlap@dtaa.com</td>\n",
              "      <td>StockroomClerk</td>\n",
              "      <td>NaN</td>\n",
              "      <td>1 - Executive</td>\n",
              "      <td>3 - Manufacturing</td>\n",
              "      <td>3 - Assembly</td>\n",
              "      <td>1 - Stockroom</td>\n",
              "      <td>Sydney Genevieve Nichols</td>\n",
              "    </tr>\n",
              "    <tr>\n",
              "      <th>9</th>\n",
              "      <td>Coby Baxter Nguyen</td>\n",
              "      <td>CBN1983</td>\n",
              "      <td>Coby.Baxter.Nguyen@dtaa.com</td>\n",
              "      <td>LabManager</td>\n",
              "      <td>NaN</td>\n",
              "      <td>1 - Executive</td>\n",
              "      <td>2 - ResearchAndEngineering</td>\n",
              "      <td>2 - Research</td>\n",
              "      <td>6 - Lab</td>\n",
              "      <td>Dominique Karly Charles</td>\n",
              "    </tr>\n",
              "  </tbody>\n",
              "</table>\n",
              "</div>\n",
              "      <button class=\"colab-df-convert\" onclick=\"convertToInteractive('df-06997d91-39cf-4950-ace3-8f5b2f228434')\"\n",
              "              title=\"Convert this dataframe to an interactive table.\"\n",
              "              style=\"display:none;\">\n",
              "        \n",
              "  <svg xmlns=\"http://www.w3.org/2000/svg\" height=\"24px\"viewBox=\"0 0 24 24\"\n",
              "       width=\"24px\">\n",
              "    <path d=\"M0 0h24v24H0V0z\" fill=\"none\"/>\n",
              "    <path d=\"M18.56 5.44l.94 2.06.94-2.06 2.06-.94-2.06-.94-.94-2.06-.94 2.06-2.06.94zm-11 1L8.5 8.5l.94-2.06 2.06-.94-2.06-.94L8.5 2.5l-.94 2.06-2.06.94zm10 10l.94 2.06.94-2.06 2.06-.94-2.06-.94-.94-2.06-.94 2.06-2.06.94z\"/><path d=\"M17.41 7.96l-1.37-1.37c-.4-.4-.92-.59-1.43-.59-.52 0-1.04.2-1.43.59L10.3 9.45l-7.72 7.72c-.78.78-.78 2.05 0 2.83L4 21.41c.39.39.9.59 1.41.59.51 0 1.02-.2 1.41-.59l7.78-7.78 2.81-2.81c.8-.78.8-2.07 0-2.86zM5.41 20L4 18.59l7.72-7.72 1.47 1.35L5.41 20z\"/>\n",
              "  </svg>\n",
              "      </button>\n",
              "      \n",
              "  <style>\n",
              "    .colab-df-container {\n",
              "      display:flex;\n",
              "      flex-wrap:wrap;\n",
              "      gap: 12px;\n",
              "    }\n",
              "\n",
              "    .colab-df-convert {\n",
              "      background-color: #E8F0FE;\n",
              "      border: none;\n",
              "      border-radius: 50%;\n",
              "      cursor: pointer;\n",
              "      display: none;\n",
              "      fill: #1967D2;\n",
              "      height: 32px;\n",
              "      padding: 0 0 0 0;\n",
              "      width: 32px;\n",
              "    }\n",
              "\n",
              "    .colab-df-convert:hover {\n",
              "      background-color: #E2EBFA;\n",
              "      box-shadow: 0px 1px 2px rgba(60, 64, 67, 0.3), 0px 1px 3px 1px rgba(60, 64, 67, 0.15);\n",
              "      fill: #174EA6;\n",
              "    }\n",
              "\n",
              "    [theme=dark] .colab-df-convert {\n",
              "      background-color: #3B4455;\n",
              "      fill: #D2E3FC;\n",
              "    }\n",
              "\n",
              "    [theme=dark] .colab-df-convert:hover {\n",
              "      background-color: #434B5C;\n",
              "      box-shadow: 0px 1px 3px 1px rgba(0, 0, 0, 0.15);\n",
              "      filter: drop-shadow(0px 1px 2px rgba(0, 0, 0, 0.3));\n",
              "      fill: #FFFFFF;\n",
              "    }\n",
              "  </style>\n",
              "\n",
              "      <script>\n",
              "        const buttonEl =\n",
              "          document.querySelector('#df-06997d91-39cf-4950-ace3-8f5b2f228434 button.colab-df-convert');\n",
              "        buttonEl.style.display =\n",
              "          google.colab.kernel.accessAllowed ? 'block' : 'none';\n",
              "\n",
              "        async function convertToInteractive(key) {\n",
              "          const element = document.querySelector('#df-06997d91-39cf-4950-ace3-8f5b2f228434');\n",
              "          const dataTable =\n",
              "            await google.colab.kernel.invokeFunction('convertToInteractive',\n",
              "                                                     [key], {});\n",
              "          if (!dataTable) return;\n",
              "\n",
              "          const docLinkHtml = 'Like what you see? Visit the ' +\n",
              "            '<a target=\"_blank\" href=https://colab.research.google.com/notebooks/data_table.ipynb>data table notebook</a>'\n",
              "            + ' to learn more about interactive tables.';\n",
              "          element.innerHTML = '';\n",
              "          dataTable['output_type'] = 'display_data';\n",
              "          await google.colab.output.renderOutput(dataTable, element);\n",
              "          const docLink = document.createElement('div');\n",
              "          docLink.innerHTML = docLinkHtml;\n",
              "          element.appendChild(docLink);\n",
              "        }\n",
              "      </script>\n",
              "    </div>\n",
              "  </div>\n",
              "  "
            ]
          },
          "metadata": {},
          "execution_count": 7
        }
      ]
    },
    {
      "cell_type": "code",
      "source": [
        "def get_user_from_path(path):\n",
        "    user = path.split('/')[-1].split('.csv')[0].split('-')[-1]\n",
        "    return user\n",
        "\n",
        "def read_answer_file(path):\n",
        "    df = pd.read_csv(path, header=None, usecols=[0,1,2,3,4]).rename(columns={0: 'action',\n",
        "                                                                            1: 'ID',\n",
        "                                                                            2: 'date',\n",
        "                                                                            3: 'user',\n",
        "                                                                            4: 'pc'})\n",
        "    df['date'] = pd.to_datetime(df['date'])\n",
        "    df['day'] = df['date'].dt.date\n",
        "    return df\n",
        "\n",
        "def read_malicious_events(answers_dir, dataset_ver=5.2):\n",
        "    mal_event_paths = glob.glob(os.path.join(answers_dir, f'r{dataset_ver}-*/*'))\n",
        "    mal_users = [get_user_from_path(p) for p in mal_event_paths]\n",
        "    mal_user_events = {user: read_answer_file(path)\n",
        "                       for (user, path) in zip(mal_users, mal_event_paths)}\n",
        "    return mal_user_events"
      ],
      "metadata": {
        "id": "jHwcaQTP2k9p"
      },
      "execution_count": null,
      "outputs": []
    },
    {
      "cell_type": "code",
      "source": [
        "mal_users_events = read_malicious_events(answers_path)"
      ],
      "metadata": {
        "id": "QUjlCFIr3Gqr"
      },
      "execution_count": null,
      "outputs": []
    },
    {
      "cell_type": "code",
      "source": [
        "def is_malicious_day(x , mal_users_events):\n",
        "    day = x.day\n",
        "    user = x.user\n",
        "\n",
        "    if(user not in mal_users_events):\n",
        "        return 0\n",
        "    user_df = mal_users_events[user]\n",
        "    mal_events_count = user_df[(user_df['day'] == day)].shape[0]\n",
        "    return int(mal_events_count > 0)\n",
        "\n",
        "def is_malicious_user(user, X, clf, all_features):\n",
        "  idxs = all_features[all_features[\"user\"] == user].index.values\n",
        "  user_preds = clf.predict(X.loc[idxs])\n",
        "  return int(user_preds.any())"
      ],
      "metadata": {
        "id": "y8AdtCMO3mLf"
      },
      "execution_count": null,
      "outputs": []
    },
    {
      "cell_type": "markdown",
      "source": [
        "# Load fine data"
      ],
      "metadata": {
        "id": "fuHIWulz3Pl6"
      }
    },
    {
      "cell_type": "code",
      "source": [
        "import glob \n",
        "\n",
        "feature_dfs = []\n",
        "features_path = os.path.join(root_path,'New_features/*.csv')\n",
        "for path in glob.glob(features_path):\n",
        "  print(path)\n",
        "  df = pd.read_csv(path)\n",
        "  feature_dfs.append(df)"
      ],
      "metadata": {
        "colab": {
          "base_uri": "https://localhost:8080/"
        },
        "id": "81mm97BF3JMx",
        "outputId": "b6fca40d-dda2-46ab-f77c-6d0ccdc8328e"
      },
      "execution_count": null,
      "outputs": [
        {
          "output_type": "stream",
          "name": "stdout",
          "text": [
            "/content/drive/MyDrive/uOttawa/AI_for_CyberSecurity/InsiderThreatDetection/New_features/user_daily_email.csv\n",
            "/content/drive/MyDrive/uOttawa/AI_for_CyberSecurity/InsiderThreatDetection/New_features/user_daily_http.csv\n",
            "/content/drive/MyDrive/uOttawa/AI_for_CyberSecurity/InsiderThreatDetection/New_features/user_daily_device.csv\n",
            "/content/drive/MyDrive/uOttawa/AI_for_CyberSecurity/InsiderThreatDetection/New_features/user_daily_file.csv\n",
            "/content/drive/MyDrive/uOttawa/AI_for_CyberSecurity/InsiderThreatDetection/New_features/user_daily_logon.csv\n"
          ]
        }
      ]
    },
    {
      "cell_type": "code",
      "source": [
        "from functools import reduce\n",
        "\n",
        "fine_features = reduce(lambda left, right: pd.merge(left, right, on=['user', 'day'],\n",
        "                                               how='outer'), feature_dfs).fillna(0)\n",
        "fine_features['day'] = pd.to_datetime(fine_features['day'])\n",
        "fine_features['is_malicious'] = fine_features.apply(is_malicious_day, \n",
        "                                                       args=[mal_users_events],\n",
        "                                                       axis=1)\n",
        "\n",
        "fine_features"
      ],
      "metadata": {
        "colab": {
          "base_uri": "https://localhost:8080/",
          "height": 697
        },
        "id": "qszbaqWa3TJG",
        "outputId": "27ef0da7-505d-4759-a12f-356530621dfa"
      },
      "execution_count": null,
      "outputs": [
        {
          "output_type": "stream",
          "name": "stderr",
          "text": [
            "/usr/local/lib/python3.7/dist-packages/pandas/core/ops/array_ops.py:73: FutureWarning: Comparison of Timestamp with datetime.date is deprecated in order to match the standard library behavior.  In a future version these will be considered non-comparable.Use 'ts == pd.Timestamp(date)' or 'ts.date() == date' instead.\n",
            "  result = libops.scalar_compare(x.ravel(), y, op)\n"
          ]
        },
        {
          "output_type": "execute_result",
          "data": {
            "text/plain": [
              "             day     user  count_Receive_working_hour_personal_pc_0_0  \\\n",
              "0     2010-01-02  ELT1370                                         1.0   \n",
              "1     2010-01-02  ESM1828                                         5.0   \n",
              "2     2010-01-02  GVM1337                                         5.0   \n",
              "3     2010-01-02  HJB1444                                         0.0   \n",
              "4     2010-01-02  ILM1441                                         1.0   \n",
              "...          ...      ...                                         ...   \n",
              "62525 2011-01-15  JOB0532                                         0.0   \n",
              "62526 2011-02-27  JOB0532                                         0.0   \n",
              "62527 2011-03-19  CTM1817                                         0.0   \n",
              "62528 2011-03-19  GDC0055                                         0.0   \n",
              "62529 2011-05-14  GRR1428                                         0.0   \n",
              "\n",
              "       count_Send_working_hour_personal_pc_0_0  \\\n",
              "0                                          1.0   \n",
              "1                                          5.0   \n",
              "2                                          4.0   \n",
              "3                                          0.0   \n",
              "4                                          1.0   \n",
              "...                                        ...   \n",
              "62525                                      0.0   \n",
              "62526                                      0.0   \n",
              "62527                                      0.0   \n",
              "62528                                      0.0   \n",
              "62529                                      0.0   \n",
              "\n",
              "       count_Receive_working_hour_personal_pc_1_0  \\\n",
              "0                                             0.0   \n",
              "1                                            12.0   \n",
              "2                                             5.0   \n",
              "3                                             0.0   \n",
              "4                                             2.0   \n",
              "...                                           ...   \n",
              "62525                                         0.0   \n",
              "62526                                         0.0   \n",
              "62527                                         0.0   \n",
              "62528                                         0.0   \n",
              "62529                                         0.0   \n",
              "\n",
              "       count_Send_working_hour_personal_pc_1_0  \\\n",
              "0                                          0.0   \n",
              "1                                          7.0   \n",
              "2                                          4.0   \n",
              "3                                          0.0   \n",
              "4                                          0.0   \n",
              "...                                        ...   \n",
              "62525                                      0.0   \n",
              "62526                                      0.0   \n",
              "62527                                      0.0   \n",
              "62528                                      0.0   \n",
              "62529                                      0.0   \n",
              "\n",
              "       count_Send_working_hour_personal_pc_1_1  \\\n",
              "0                                          0.0   \n",
              "1                                          4.0   \n",
              "2                                          1.0   \n",
              "3                                          0.0   \n",
              "4                                          2.0   \n",
              "...                                        ...   \n",
              "62525                                      0.0   \n",
              "62526                                      0.0   \n",
              "62527                                      0.0   \n",
              "62528                                      0.0   \n",
              "62529                                      0.0   \n",
              "\n",
              "       count_Receive_after_hours_personal_pc_0_0  \\\n",
              "0                                            0.0   \n",
              "1                                            0.0   \n",
              "2                                            0.0   \n",
              "3                                            1.0   \n",
              "4                                            0.0   \n",
              "...                                          ...   \n",
              "62525                                        0.0   \n",
              "62526                                        0.0   \n",
              "62527                                        0.0   \n",
              "62528                                        0.0   \n",
              "62529                                        0.0   \n",
              "\n",
              "       count_Receive_after_hours_personal_pc_1_0  \\\n",
              "0                                            0.0   \n",
              "1                                            0.0   \n",
              "2                                            0.0   \n",
              "3                                            1.0   \n",
              "4                                            0.0   \n",
              "...                                          ...   \n",
              "62525                                        0.0   \n",
              "62526                                        0.0   \n",
              "62527                                        0.0   \n",
              "62528                                        0.0   \n",
              "62529                                        0.0   \n",
              "\n",
              "       count_Send_after_hours_personal_pc_0_0  ...  file_length  file_depth_y  \\\n",
              "0                                         0.0  ...          0.0           0.0   \n",
              "1                                         0.0  ...          0.0           0.0   \n",
              "2                                         0.0  ...          0.0           0.0   \n",
              "3                                         0.0  ...          0.0           0.0   \n",
              "4                                         0.0  ...          0.0           0.0   \n",
              "...                                       ...  ...          ...           ...   \n",
              "62525                                     0.0  ...          0.0           0.0   \n",
              "62526                                     0.0  ...          0.0           0.0   \n",
              "62527                                     0.0  ...          0.0           0.0   \n",
              "62528                                     0.0  ...          0.0           0.0   \n",
              "62529                                     0.0  ...          0.0           0.0   \n",
              "\n",
              "       count_Logon_working_hour_other_pc  \\\n",
              "0                                    1.0   \n",
              "1                                    1.0   \n",
              "2                                    0.0   \n",
              "3                                    0.0   \n",
              "4                                    1.0   \n",
              "...                                  ...   \n",
              "62525                                0.0   \n",
              "62526                                0.0   \n",
              "62527                                0.0   \n",
              "62528                                0.0   \n",
              "62529                                0.0   \n",
              "\n",
              "       count_Logon_working_hour_personal_pc  count_Logon_after_hours_other_pc  \\\n",
              "0                                       2.0                               0.0   \n",
              "1                                       1.0                               0.0   \n",
              "2                                       2.0                               0.0   \n",
              "3                                       0.0                               0.0   \n",
              "4                                       1.0                               0.0   \n",
              "...                                     ...                               ...   \n",
              "62525                                   0.0                               0.0   \n",
              "62526                                   0.0                               0.0   \n",
              "62527                                   0.0                               0.0   \n",
              "62528                                   0.0                               0.0   \n",
              "62529                                   0.0                               0.0   \n",
              "\n",
              "       count_Logon_after_hours_personal_pc  \\\n",
              "0                                      0.0   \n",
              "1                                      0.0   \n",
              "2                                      0.0   \n",
              "3                                      0.0   \n",
              "4                                      0.0   \n",
              "...                                    ...   \n",
              "62525                                  1.0   \n",
              "62526                                  1.0   \n",
              "62527                                  1.0   \n",
              "62528                                  1.0   \n",
              "62529                                  1.0   \n",
              "\n",
              "       count_Logon_after_hours_supervisor_pc  \\\n",
              "0                                        0.0   \n",
              "1                                        0.0   \n",
              "2                                        0.0   \n",
              "3                                        0.0   \n",
              "4                                        0.0   \n",
              "...                                      ...   \n",
              "62525                                    0.0   \n",
              "62526                                    0.0   \n",
              "62527                                    0.0   \n",
              "62528                                    0.0   \n",
              "62529                                    0.0   \n",
              "\n",
              "       count_Logon_working_hour_supervisor_pc  session_time  is_malicious  \n",
              "0                                         0.0    163.666667             0  \n",
              "1                                         0.0    276.500000             0  \n",
              "2                                         0.0    277.000000             0  \n",
              "3                                         0.0      0.000000             0  \n",
              "4                                         0.0    261.500000             0  \n",
              "...                                       ...           ...           ...  \n",
              "62525                                     0.0    118.000000             0  \n",
              "62526                                     0.0     49.000000             0  \n",
              "62527                                     0.0    194.000000             0  \n",
              "62528                                     0.0     57.000000             0  \n",
              "62529                                     0.0    215.000000             0  \n",
              "\n",
              "[62530 rows x 105 columns]"
            ],
            "text/html": [
              "\n",
              "  <div id=\"df-e54d1fa3-8456-4a74-800f-f9da45422809\">\n",
              "    <div class=\"colab-df-container\">\n",
              "      <div>\n",
              "<style scoped>\n",
              "    .dataframe tbody tr th:only-of-type {\n",
              "        vertical-align: middle;\n",
              "    }\n",
              "\n",
              "    .dataframe tbody tr th {\n",
              "        vertical-align: top;\n",
              "    }\n",
              "\n",
              "    .dataframe thead th {\n",
              "        text-align: right;\n",
              "    }\n",
              "</style>\n",
              "<table border=\"1\" class=\"dataframe\">\n",
              "  <thead>\n",
              "    <tr style=\"text-align: right;\">\n",
              "      <th></th>\n",
              "      <th>day</th>\n",
              "      <th>user</th>\n",
              "      <th>count_Receive_working_hour_personal_pc_0_0</th>\n",
              "      <th>count_Send_working_hour_personal_pc_0_0</th>\n",
              "      <th>count_Receive_working_hour_personal_pc_1_0</th>\n",
              "      <th>count_Send_working_hour_personal_pc_1_0</th>\n",
              "      <th>count_Send_working_hour_personal_pc_1_1</th>\n",
              "      <th>count_Receive_after_hours_personal_pc_0_0</th>\n",
              "      <th>count_Receive_after_hours_personal_pc_1_0</th>\n",
              "      <th>count_Send_after_hours_personal_pc_0_0</th>\n",
              "      <th>...</th>\n",
              "      <th>file_length</th>\n",
              "      <th>file_depth_y</th>\n",
              "      <th>count_Logon_working_hour_other_pc</th>\n",
              "      <th>count_Logon_working_hour_personal_pc</th>\n",
              "      <th>count_Logon_after_hours_other_pc</th>\n",
              "      <th>count_Logon_after_hours_personal_pc</th>\n",
              "      <th>count_Logon_after_hours_supervisor_pc</th>\n",
              "      <th>count_Logon_working_hour_supervisor_pc</th>\n",
              "      <th>session_time</th>\n",
              "      <th>is_malicious</th>\n",
              "    </tr>\n",
              "  </thead>\n",
              "  <tbody>\n",
              "    <tr>\n",
              "      <th>0</th>\n",
              "      <td>2010-01-02</td>\n",
              "      <td>ELT1370</td>\n",
              "      <td>1.0</td>\n",
              "      <td>1.0</td>\n",
              "      <td>0.0</td>\n",
              "      <td>0.0</td>\n",
              "      <td>0.0</td>\n",
              "      <td>0.0</td>\n",
              "      <td>0.0</td>\n",
              "      <td>0.0</td>\n",
              "      <td>...</td>\n",
              "      <td>0.0</td>\n",
              "      <td>0.0</td>\n",
              "      <td>1.0</td>\n",
              "      <td>2.0</td>\n",
              "      <td>0.0</td>\n",
              "      <td>0.0</td>\n",
              "      <td>0.0</td>\n",
              "      <td>0.0</td>\n",
              "      <td>163.666667</td>\n",
              "      <td>0</td>\n",
              "    </tr>\n",
              "    <tr>\n",
              "      <th>1</th>\n",
              "      <td>2010-01-02</td>\n",
              "      <td>ESM1828</td>\n",
              "      <td>5.0</td>\n",
              "      <td>5.0</td>\n",
              "      <td>12.0</td>\n",
              "      <td>7.0</td>\n",
              "      <td>4.0</td>\n",
              "      <td>0.0</td>\n",
              "      <td>0.0</td>\n",
              "      <td>0.0</td>\n",
              "      <td>...</td>\n",
              "      <td>0.0</td>\n",
              "      <td>0.0</td>\n",
              "      <td>1.0</td>\n",
              "      <td>1.0</td>\n",
              "      <td>0.0</td>\n",
              "      <td>0.0</td>\n",
              "      <td>0.0</td>\n",
              "      <td>0.0</td>\n",
              "      <td>276.500000</td>\n",
              "      <td>0</td>\n",
              "    </tr>\n",
              "    <tr>\n",
              "      <th>2</th>\n",
              "      <td>2010-01-02</td>\n",
              "      <td>GVM1337</td>\n",
              "      <td>5.0</td>\n",
              "      <td>4.0</td>\n",
              "      <td>5.0</td>\n",
              "      <td>4.0</td>\n",
              "      <td>1.0</td>\n",
              "      <td>0.0</td>\n",
              "      <td>0.0</td>\n",
              "      <td>0.0</td>\n",
              "      <td>...</td>\n",
              "      <td>0.0</td>\n",
              "      <td>0.0</td>\n",
              "      <td>0.0</td>\n",
              "      <td>2.0</td>\n",
              "      <td>0.0</td>\n",
              "      <td>0.0</td>\n",
              "      <td>0.0</td>\n",
              "      <td>0.0</td>\n",
              "      <td>277.000000</td>\n",
              "      <td>0</td>\n",
              "    </tr>\n",
              "    <tr>\n",
              "      <th>3</th>\n",
              "      <td>2010-01-02</td>\n",
              "      <td>HJB1444</td>\n",
              "      <td>0.0</td>\n",
              "      <td>0.0</td>\n",
              "      <td>0.0</td>\n",
              "      <td>0.0</td>\n",
              "      <td>0.0</td>\n",
              "      <td>1.0</td>\n",
              "      <td>1.0</td>\n",
              "      <td>0.0</td>\n",
              "      <td>...</td>\n",
              "      <td>0.0</td>\n",
              "      <td>0.0</td>\n",
              "      <td>0.0</td>\n",
              "      <td>0.0</td>\n",
              "      <td>0.0</td>\n",
              "      <td>0.0</td>\n",
              "      <td>0.0</td>\n",
              "      <td>0.0</td>\n",
              "      <td>0.000000</td>\n",
              "      <td>0</td>\n",
              "    </tr>\n",
              "    <tr>\n",
              "      <th>4</th>\n",
              "      <td>2010-01-02</td>\n",
              "      <td>ILM1441</td>\n",
              "      <td>1.0</td>\n",
              "      <td>1.0</td>\n",
              "      <td>2.0</td>\n",
              "      <td>0.0</td>\n",
              "      <td>2.0</td>\n",
              "      <td>0.0</td>\n",
              "      <td>0.0</td>\n",
              "      <td>0.0</td>\n",
              "      <td>...</td>\n",
              "      <td>0.0</td>\n",
              "      <td>0.0</td>\n",
              "      <td>1.0</td>\n",
              "      <td>1.0</td>\n",
              "      <td>0.0</td>\n",
              "      <td>0.0</td>\n",
              "      <td>0.0</td>\n",
              "      <td>0.0</td>\n",
              "      <td>261.500000</td>\n",
              "      <td>0</td>\n",
              "    </tr>\n",
              "    <tr>\n",
              "      <th>...</th>\n",
              "      <td>...</td>\n",
              "      <td>...</td>\n",
              "      <td>...</td>\n",
              "      <td>...</td>\n",
              "      <td>...</td>\n",
              "      <td>...</td>\n",
              "      <td>...</td>\n",
              "      <td>...</td>\n",
              "      <td>...</td>\n",
              "      <td>...</td>\n",
              "      <td>...</td>\n",
              "      <td>...</td>\n",
              "      <td>...</td>\n",
              "      <td>...</td>\n",
              "      <td>...</td>\n",
              "      <td>...</td>\n",
              "      <td>...</td>\n",
              "      <td>...</td>\n",
              "      <td>...</td>\n",
              "      <td>...</td>\n",
              "      <td>...</td>\n",
              "    </tr>\n",
              "    <tr>\n",
              "      <th>62525</th>\n",
              "      <td>2011-01-15</td>\n",
              "      <td>JOB0532</td>\n",
              "      <td>0.0</td>\n",
              "      <td>0.0</td>\n",
              "      <td>0.0</td>\n",
              "      <td>0.0</td>\n",
              "      <td>0.0</td>\n",
              "      <td>0.0</td>\n",
              "      <td>0.0</td>\n",
              "      <td>0.0</td>\n",
              "      <td>...</td>\n",
              "      <td>0.0</td>\n",
              "      <td>0.0</td>\n",
              "      <td>0.0</td>\n",
              "      <td>0.0</td>\n",
              "      <td>0.0</td>\n",
              "      <td>1.0</td>\n",
              "      <td>0.0</td>\n",
              "      <td>0.0</td>\n",
              "      <td>118.000000</td>\n",
              "      <td>0</td>\n",
              "    </tr>\n",
              "    <tr>\n",
              "      <th>62526</th>\n",
              "      <td>2011-02-27</td>\n",
              "      <td>JOB0532</td>\n",
              "      <td>0.0</td>\n",
              "      <td>0.0</td>\n",
              "      <td>0.0</td>\n",
              "      <td>0.0</td>\n",
              "      <td>0.0</td>\n",
              "      <td>0.0</td>\n",
              "      <td>0.0</td>\n",
              "      <td>0.0</td>\n",
              "      <td>...</td>\n",
              "      <td>0.0</td>\n",
              "      <td>0.0</td>\n",
              "      <td>0.0</td>\n",
              "      <td>0.0</td>\n",
              "      <td>0.0</td>\n",
              "      <td>1.0</td>\n",
              "      <td>0.0</td>\n",
              "      <td>0.0</td>\n",
              "      <td>49.000000</td>\n",
              "      <td>0</td>\n",
              "    </tr>\n",
              "    <tr>\n",
              "      <th>62527</th>\n",
              "      <td>2011-03-19</td>\n",
              "      <td>CTM1817</td>\n",
              "      <td>0.0</td>\n",
              "      <td>0.0</td>\n",
              "      <td>0.0</td>\n",
              "      <td>0.0</td>\n",
              "      <td>0.0</td>\n",
              "      <td>0.0</td>\n",
              "      <td>0.0</td>\n",
              "      <td>0.0</td>\n",
              "      <td>...</td>\n",
              "      <td>0.0</td>\n",
              "      <td>0.0</td>\n",
              "      <td>0.0</td>\n",
              "      <td>0.0</td>\n",
              "      <td>0.0</td>\n",
              "      <td>1.0</td>\n",
              "      <td>0.0</td>\n",
              "      <td>0.0</td>\n",
              "      <td>194.000000</td>\n",
              "      <td>0</td>\n",
              "    </tr>\n",
              "    <tr>\n",
              "      <th>62528</th>\n",
              "      <td>2011-03-19</td>\n",
              "      <td>GDC0055</td>\n",
              "      <td>0.0</td>\n",
              "      <td>0.0</td>\n",
              "      <td>0.0</td>\n",
              "      <td>0.0</td>\n",
              "      <td>0.0</td>\n",
              "      <td>0.0</td>\n",
              "      <td>0.0</td>\n",
              "      <td>0.0</td>\n",
              "      <td>...</td>\n",
              "      <td>0.0</td>\n",
              "      <td>0.0</td>\n",
              "      <td>0.0</td>\n",
              "      <td>0.0</td>\n",
              "      <td>0.0</td>\n",
              "      <td>1.0</td>\n",
              "      <td>0.0</td>\n",
              "      <td>0.0</td>\n",
              "      <td>57.000000</td>\n",
              "      <td>0</td>\n",
              "    </tr>\n",
              "    <tr>\n",
              "      <th>62529</th>\n",
              "      <td>2011-05-14</td>\n",
              "      <td>GRR1428</td>\n",
              "      <td>0.0</td>\n",
              "      <td>0.0</td>\n",
              "      <td>0.0</td>\n",
              "      <td>0.0</td>\n",
              "      <td>0.0</td>\n",
              "      <td>0.0</td>\n",
              "      <td>0.0</td>\n",
              "      <td>0.0</td>\n",
              "      <td>...</td>\n",
              "      <td>0.0</td>\n",
              "      <td>0.0</td>\n",
              "      <td>0.0</td>\n",
              "      <td>0.0</td>\n",
              "      <td>0.0</td>\n",
              "      <td>1.0</td>\n",
              "      <td>0.0</td>\n",
              "      <td>0.0</td>\n",
              "      <td>215.000000</td>\n",
              "      <td>0</td>\n",
              "    </tr>\n",
              "  </tbody>\n",
              "</table>\n",
              "<p>62530 rows × 105 columns</p>\n",
              "</div>\n",
              "      <button class=\"colab-df-convert\" onclick=\"convertToInteractive('df-e54d1fa3-8456-4a74-800f-f9da45422809')\"\n",
              "              title=\"Convert this dataframe to an interactive table.\"\n",
              "              style=\"display:none;\">\n",
              "        \n",
              "  <svg xmlns=\"http://www.w3.org/2000/svg\" height=\"24px\"viewBox=\"0 0 24 24\"\n",
              "       width=\"24px\">\n",
              "    <path d=\"M0 0h24v24H0V0z\" fill=\"none\"/>\n",
              "    <path d=\"M18.56 5.44l.94 2.06.94-2.06 2.06-.94-2.06-.94-.94-2.06-.94 2.06-2.06.94zm-11 1L8.5 8.5l.94-2.06 2.06-.94-2.06-.94L8.5 2.5l-.94 2.06-2.06.94zm10 10l.94 2.06.94-2.06 2.06-.94-2.06-.94-.94-2.06-.94 2.06-2.06.94z\"/><path d=\"M17.41 7.96l-1.37-1.37c-.4-.4-.92-.59-1.43-.59-.52 0-1.04.2-1.43.59L10.3 9.45l-7.72 7.72c-.78.78-.78 2.05 0 2.83L4 21.41c.39.39.9.59 1.41.59.51 0 1.02-.2 1.41-.59l7.78-7.78 2.81-2.81c.8-.78.8-2.07 0-2.86zM5.41 20L4 18.59l7.72-7.72 1.47 1.35L5.41 20z\"/>\n",
              "  </svg>\n",
              "      </button>\n",
              "      \n",
              "  <style>\n",
              "    .colab-df-container {\n",
              "      display:flex;\n",
              "      flex-wrap:wrap;\n",
              "      gap: 12px;\n",
              "    }\n",
              "\n",
              "    .colab-df-convert {\n",
              "      background-color: #E8F0FE;\n",
              "      border: none;\n",
              "      border-radius: 50%;\n",
              "      cursor: pointer;\n",
              "      display: none;\n",
              "      fill: #1967D2;\n",
              "      height: 32px;\n",
              "      padding: 0 0 0 0;\n",
              "      width: 32px;\n",
              "    }\n",
              "\n",
              "    .colab-df-convert:hover {\n",
              "      background-color: #E2EBFA;\n",
              "      box-shadow: 0px 1px 2px rgba(60, 64, 67, 0.3), 0px 1px 3px 1px rgba(60, 64, 67, 0.15);\n",
              "      fill: #174EA6;\n",
              "    }\n",
              "\n",
              "    [theme=dark] .colab-df-convert {\n",
              "      background-color: #3B4455;\n",
              "      fill: #D2E3FC;\n",
              "    }\n",
              "\n",
              "    [theme=dark] .colab-df-convert:hover {\n",
              "      background-color: #434B5C;\n",
              "      box-shadow: 0px 1px 3px 1px rgba(0, 0, 0, 0.15);\n",
              "      filter: drop-shadow(0px 1px 2px rgba(0, 0, 0, 0.3));\n",
              "      fill: #FFFFFF;\n",
              "    }\n",
              "  </style>\n",
              "\n",
              "      <script>\n",
              "        const buttonEl =\n",
              "          document.querySelector('#df-e54d1fa3-8456-4a74-800f-f9da45422809 button.colab-df-convert');\n",
              "        buttonEl.style.display =\n",
              "          google.colab.kernel.accessAllowed ? 'block' : 'none';\n",
              "\n",
              "        async function convertToInteractive(key) {\n",
              "          const element = document.querySelector('#df-e54d1fa3-8456-4a74-800f-f9da45422809');\n",
              "          const dataTable =\n",
              "            await google.colab.kernel.invokeFunction('convertToInteractive',\n",
              "                                                     [key], {});\n",
              "          if (!dataTable) return;\n",
              "\n",
              "          const docLinkHtml = 'Like what you see? Visit the ' +\n",
              "            '<a target=\"_blank\" href=https://colab.research.google.com/notebooks/data_table.ipynb>data table notebook</a>'\n",
              "            + ' to learn more about interactive tables.';\n",
              "          element.innerHTML = '';\n",
              "          dataTable['output_type'] = 'display_data';\n",
              "          await google.colab.output.renderOutput(dataTable, element);\n",
              "          const docLink = document.createElement('div');\n",
              "          docLink.innerHTML = docLinkHtml;\n",
              "          element.appendChild(docLink);\n",
              "        }\n",
              "      </script>\n",
              "    </div>\n",
              "  </div>\n",
              "  "
            ]
          },
          "metadata": {},
          "execution_count": 12
        }
      ]
    },
    {
      "cell_type": "markdown",
      "source": [
        "# Train/test splits by user"
      ],
      "metadata": {
        "id": "gFbz1Yuq4iyI"
      }
    },
    {
      "cell_type": "code",
      "source": [
        "import random\n",
        "\n",
        "def sample_random_users(features, insiders_df, test_size=0.25, random_state=0):\n",
        "  all_malicious_users = insiders_df['user'].values\n",
        "  all_users = features[\"user\"].values\n",
        "  \n",
        "  random.seed(random_state)\n",
        "\n",
        "  malicious_users = list(set(all_malicious_users).intersection(all_users))\n",
        "  benign_users = list(set(all_users).difference(malicious_users))\n",
        "\n",
        "  test_malicious_users = random.sample(malicious_users, \n",
        "                                      int(len(malicious_users)*test_size))\n",
        "  test_benign_users = random.sample(benign_users, \n",
        "                                      int(len(benign_users)*test_size))\n",
        "  \n",
        "  train_malicious_users = list(set(malicious_users).difference(test_malicious_users))\n",
        "  train_benign_users = list(set(benign_users).difference(test_benign_users))\n",
        "\n",
        "  train_users = train_benign_users + train_malicious_users\n",
        "  test_users = test_benign_users + test_malicious_users\n",
        "  return train_users, test_users"
      ],
      "metadata": {
        "id": "CFfYuVgL4ZOE"
      },
      "execution_count": null,
      "outputs": []
    },
    {
      "cell_type": "code",
      "source": [
        "train_users, test_users = sample_random_users(fine_features, insiders_df)\n",
        "drop_cols = [\"day\", \"user\", \"is_malicious\"]"
      ],
      "metadata": {
        "id": "oc01lPdE7mA7"
      },
      "execution_count": null,
      "outputs": []
    },
    {
      "cell_type": "code",
      "source": [
        "user_train_features_fine = fine_features[fine_features['user'].isin(train_users)]\n",
        "user_test_features_fine = fine_features[fine_features['user'].isin(test_users)]\n",
        "\n",
        "X_train_user_fine = user_train_features_fine.drop(columns=drop_cols)\n",
        "y_train_user_fine = user_train_features_fine.iloc[:, -1]\n",
        "\n",
        "X_test_user_fine = user_test_features_fine.drop(columns=drop_cols)\n",
        "y_test_user_fine = user_test_features_fine.iloc[:, -1]\n",
        "\n",
        "print(f\"train shape: {X_train_user_fine.shape}\")\n",
        "print(f\"test shape: {X_test_user_fine.shape}\")"
      ],
      "metadata": {
        "colab": {
          "base_uri": "https://localhost:8080/"
        },
        "id": "ryWfO4MC86EE",
        "outputId": "de81c2dd-b43e-4ce2-ab34-5b14d5aca979"
      },
      "execution_count": null,
      "outputs": [
        {
          "output_type": "stream",
          "name": "stdout",
          "text": [
            "train shape: (46421, 102)\n",
            "test shape: (16109, 102)\n"
          ]
        }
      ]
    },
    {
      "cell_type": "markdown",
      "source": [
        "#Top Features"
      ],
      "metadata": {
        "id": "uNLKHwb9DTuw"
      }
    },
    {
      "cell_type": "code",
      "source": [
        "import numpy as np\n",
        "from sklearn.ensemble import RandomForestClassifier\n",
        "from sklearn.model_selection import train_test_split\n",
        "from sklearn.metrics import accuracy_score,f1_score , confusion_matrix,classification_report\n",
        "\n",
        "\n",
        "rf = RandomForestClassifier(max_features=\"log2\")\n",
        "rf.fit(X_train_user_fine, y_train_user_fine)\n",
        "\n",
        "user_fine_preds = rf.predict(X_test_user_fine)"
      ],
      "metadata": {
        "id": "9d1mwlC6IjD5"
      },
      "execution_count": null,
      "outputs": []
    },
    {
      "cell_type": "code",
      "source": [
        "X_train_user_fine.shape"
      ],
      "metadata": {
        "colab": {
          "base_uri": "https://localhost:8080/"
        },
        "id": "UPT37pl3bcu4",
        "outputId": "a04fe911-71e7-4c06-f87f-a6dc7ca866a0"
      },
      "execution_count": null,
      "outputs": [
        {
          "output_type": "execute_result",
          "data": {
            "text/plain": [
              "(46421, 102)"
            ]
          },
          "metadata": {},
          "execution_count": 21
        }
      ]
    },
    {
      "cell_type": "code",
      "source": [
        "print(f'accuracy : {accuracy_score(y_test_user_fine, user_fine_preds)}')\n",
        "print(f'f1_score : {f1_score(y_test_user_fine, user_fine_preds)}')\n",
        "print(classification_report(y_test_user_fine, user_fine_preds))"
      ],
      "metadata": {
        "colab": {
          "base_uri": "https://localhost:8080/"
        },
        "outputId": "51f66eaa-7009-4106-8f2d-209e1015292a",
        "id": "EyjmAUMHIjD6"
      },
      "execution_count": null,
      "outputs": [
        {
          "output_type": "stream",
          "name": "stdout",
          "text": [
            "accuracy : 0.9931094419268732\n",
            "f1_score : 0.7527839643652563\n",
            "              precision    recall  f1-score   support\n",
            "\n",
            "           0       0.99      1.00      1.00     15840\n",
            "           1       0.94      0.63      0.75       269\n",
            "\n",
            "    accuracy                           0.99     16109\n",
            "   macro avg       0.97      0.81      0.87     16109\n",
            "weighted avg       0.99      0.99      0.99     16109\n",
            "\n"
          ]
        }
      ]
    },
    {
      "cell_type": "code",
      "source": [
        "feature_names = X_train_user_fine.columns\n",
        "importances = rf.feature_importances_\n",
        "\n",
        "std = np.std([tree.feature_importances_ for tree in rf.estimators_], axis=0)\n",
        "\n",
        "forest_importances = pd.Series(importances, index=feature_names)\n",
        "\n",
        "fig, ax = plt.subplots(figsize=(20, 10))\n",
        "forest_importances.to_frame().sort_values(by=0, ascending=False).plot.bar(yerr=std, ax=ax)\n",
        "\n",
        "ax.set_title(\"Feature importances using MDI\")\n",
        "ax.set_ylabel(\"Mean decrease in impurity\")\n",
        "fig.tight_layout()"
      ],
      "metadata": {
        "colab": {
          "base_uri": "https://localhost:8080/",
          "height": 728
        },
        "outputId": "9eb3a9cc-ec34-4df1-a5c2-fa6debc6541a",
        "id": "oL83ctqfIjD8"
      },
      "execution_count": null,
      "outputs": [
        {
          "output_type": "display_data",
          "data": {
            "text/plain": [
              "<Figure size 1440x720 with 1 Axes>"
            ],
            "image/png": "[encoded data removed]"
          },
          "metadata": {
            "needs_background": "light"
          }
        }
      ]
    },
    {
      "cell_type": "code",
      "source": [
        "best_feature_comb = {}\n",
        "\n",
        "for i in range(5, 80):\n",
        "  top_features = forest_importances.to_frame().sort_values(by=0, ascending=False).iloc[:i].index.values\n",
        "\n",
        "  X_train_top_features = X_train_user_fine[top_features]\n",
        "  X_test_top_features = X_test_user_fine[top_features]\n",
        "\n",
        "  rf = RandomForestClassifier(max_features='log2')\n",
        "  rf.fit(X_train_top_features, y_train_user_fine)\n",
        "\n",
        "  preds = rf.predict(X_test_top_features)\n",
        "  f1 = f1_score(y_test_user_fine, preds)\n",
        "  print(f'f1_score for {i} : {f1}')\n",
        "  best_feature_comb[i] = f1"
      ],
      "metadata": {
        "colab": {
          "base_uri": "https://localhost:8080/"
        },
        "id": "E0REszjNZbtN",
        "outputId": "a38cc4d2-52bb-49cc-a5e7-85ea2b5effca"
      },
      "execution_count": null,
      "outputs": [
        {
          "output_type": "stream",
          "name": "stdout",
          "text": [
            "f1_score for 5 : 0.6158631415241058\n",
            "f1_score for 6 : 0.47438752783964366\n",
            "f1_score for 7 : 0.5490196078431372\n",
            "f1_score for 8 : 0.47415730337078654\n",
            "f1_score for 9 : 0.7290969899665551\n",
            "f1_score for 10 : 0.6817447495961229\n",
            "f1_score for 11 : 0.7026143790849674\n",
            "f1_score for 12 : 0.6963696369636964\n",
            "f1_score for 13 : 0.6942148760330578\n",
            "f1_score for 14 : 0.7477638640429337\n",
            "f1_score for 15 : 0.7403314917127072\n",
            "f1_score for 16 : 0.7349177330895794\n",
            "f1_score for 17 : 0.7150837988826815\n",
            "f1_score for 18 : 0.7255278310940501\n",
            "f1_score for 19 : 0.7262569832402235\n",
            "f1_score for 20 : 0.7192307692307692\n",
            "f1_score for 21 : 0.7131782945736436\n",
            "f1_score for 22 : 0.71484375\n",
            "f1_score for 23 : 0.6953125\n",
            "f1_score for 24 : 0.7151515151515152\n",
            "f1_score for 25 : 0.7250509164969451\n",
            "f1_score for 26 : 0.7139959432048681\n",
            "f1_score for 27 : 0.7258064516129032\n",
            "f1_score for 28 : 0.7280163599182004\n",
            "f1_score for 29 : 0.7782805429864252\n",
            "f1_score for 30 : 0.7982261640798227\n",
            "f1_score for 31 : 0.7770419426048565\n",
            "f1_score for 32 : 0.7852494577006507\n",
            "f1_score for 33 : 0.7886710239651417\n",
            "f1_score for 34 : 0.7743362831858407\n",
            "f1_score for 35 : 0.7884187082405345\n",
            "f1_score for 36 : 0.7901785714285714\n",
            "f1_score for 37 : 0.7833698030634574\n",
            "f1_score for 38 : 0.7901785714285714\n",
            "f1_score for 39 : 0.7820224719101123\n",
            "f1_score for 40 : 0.7901785714285714\n",
            "f1_score for 41 : 0.7911111111111112\n",
            "f1_score for 42 : 0.7893569844789358\n",
            "f1_score for 43 : 0.7820224719101123\n",
            "f1_score for 44 : 0.7785234899328858\n",
            "f1_score for 45 : 0.7606263982102909\n",
            "f1_score for 46 : 0.7699115044247788\n",
            "f1_score for 47 : 0.7699115044247788\n",
            "f1_score for 48 : 0.7494646680942184\n",
            "f1_score for 49 : 0.7765237020316026\n",
            "f1_score for 50 : 0.7645788336933045\n",
            "f1_score for 51 : 0.7681818181818183\n",
            "f1_score for 52 : 0.7726269315673289\n",
            "f1_score for 53 : 0.7462039045553146\n",
            "f1_score for 54 : 0.7593818984547461\n",
            "f1_score for 55 : 0.735930735930736\n",
            "f1_score for 56 : 0.7706013363028954\n",
            "f1_score for 57 : 0.7685393258426966\n",
            "f1_score for 58 : 0.7555555555555555\n",
            "f1_score for 59 : 0.7544642857142857\n",
            "f1_score for 60 : 0.7450980392156863\n",
            "f1_score for 61 : 0.7412280701754387\n",
            "f1_score for 62 : 0.7543859649122807\n",
            "f1_score for 63 : 0.7695749440715884\n",
            "f1_score for 64 : 0.7113821138211383\n",
            "f1_score for 65 : 0.7543103448275863\n",
            "f1_score for 66 : 0.7682119205298013\n",
            "f1_score for 67 : 0.7822222222222222\n",
            "f1_score for 68 : 0.7379454926624738\n",
            "f1_score for 69 : 0.7397849462365592\n",
            "f1_score for 70 : 0.7457627118644068\n",
            "f1_score for 71 : 0.7510729613733906\n",
            "f1_score for 72 : 0.7446808510638298\n",
            "f1_score for 73 : 0.7559395248380131\n",
            "f1_score for 74 : 0.7566371681415929\n",
            "f1_score for 75 : 0.7538126361655773\n",
            "f1_score for 76 : 0.7407407407407407\n",
            "f1_score for 77 : 0.7560439560439559\n",
            "f1_score for 78 : 0.7399577167019027\n",
            "f1_score for 79 : 0.7682119205298013\n"
          ]
        }
      ]
    },
    {
      "cell_type": "code",
      "source": [
        "max = 0\n",
        "feature = -1\n",
        "for k , v in best_feature_comb.items():\n",
        "  if v > max:\n",
        "    max = v\n",
        "    feature = k\n",
        "print(f'num of features : {feature} , f1-score : {max}')"
      ],
      "metadata": {
        "colab": {
          "base_uri": "https://localhost:8080/"
        },
        "id": "BPRsOun-drj_",
        "outputId": "0af7797e-a94c-4540-dc4a-5b2acc8a1edc"
      },
      "execution_count": null,
      "outputs": [
        {
          "output_type": "stream",
          "name": "stdout",
          "text": [
            "num of features : 30 , f1-score : 0.7982261640798227\n"
          ]
        }
      ]
    },
    {
      "cell_type": "code",
      "source": [
        "forest_importances.to_frame().sort_values(by=0, ascending=False).iloc[:30].index.values"
      ],
      "metadata": {
        "id": "ioT6DNzlDTux",
        "colab": {
          "base_uri": "https://localhost:8080/"
        },
        "outputId": "d075d1f0-f33f-4ed4-e760-1994a30cabde"
      },
      "execution_count": null,
      "outputs": [
        {
          "output_type": "execute_result",
          "data": {
            "text/plain": [
              "array(['url_depth', 'count_Send_working_hour_other_pc_1_0',\n",
              "       'count_webvisit', 'file_depth_x', 'count_jobsearch_webvisit',\n",
              "       'count_Connect_working_hour_personal_pc', 'connection_time',\n",
              "       'url_length', 'file_depth_y', 'session_time', 'file_length',\n",
              "       'count_File Open_pdf_False_working_hour_other_pc',\n",
              "       'count_File Open_doc_False_working_hour_other_pc', 'no_words',\n",
              "       'size', 'http_content_length', 'no_attachments',\n",
              "       'attachments_size', 'no_destinations', 'no_external_dest',\n",
              "       'no_attachments_type',\n",
              "       'count_Receive_working_hour_personal_pc_0_0',\n",
              "       'count_Receive_working_hour_personal_pc_1_0',\n",
              "       'count_Send_working_hour_personal_pc_1_0',\n",
              "       'count_Send_working_hour_personal_pc_0_0', 'count_social_webvisit',\n",
              "       'count_hacktivist_webvisit',\n",
              "       'count_File Open_doc_True_working_hour_personal_pc', 'no_bcc_dest',\n",
              "       'count_File Write_doc_False_working_hour_personal_pc'],\n",
              "      dtype=object)"
            ]
          },
          "metadata": {},
          "execution_count": 26
        }
      ]
    },
    {
      "cell_type": "markdown",
      "source": [
        "#Models"
      ],
      "metadata": {
        "id": "TC1yKUkfI8WN"
      }
    },
    {
      "cell_type": "code",
      "source": [
        "import pickle\n",
        "import numpy as np\n",
        "import seaborn as sn\n",
        "import matplotlib.pyplot as plt\n",
        "from sklearn.ensemble import RandomForestClassifier\n",
        "from sklearn.model_selection import train_test_split\n",
        "from sklearn.metrics import accuracy_score,f1_score , confusion_matrix,classification_report"
      ],
      "metadata": {
        "id": "jZKzZQ5oOBF3"
      },
      "execution_count": null,
      "outputs": []
    },
    {
      "cell_type": "code",
      "source": [
        "top_features = ['url_depth', 'count_Send_working_hour_other_pc_1_0',\n",
        "       'count_webvisit', 'file_depth_x', 'count_jobsearch_webvisit',\n",
        "       'count_Connect_working_hour_personal_pc', 'connection_time',\n",
        "       'url_length', 'file_depth_y', 'session_time', 'file_length',\n",
        "       'count_File Open_pdf_False_working_hour_other_pc',\n",
        "       'count_File Open_doc_False_working_hour_other_pc', 'no_words',\n",
        "       'size', 'http_content_length', 'no_attachments',\n",
        "       'attachments_size', 'no_destinations', 'no_external_dest',\n",
        "       'no_attachments_type',\n",
        "       'count_Receive_working_hour_personal_pc_0_0',\n",
        "       'count_Receive_working_hour_personal_pc_1_0',\n",
        "       'count_Send_working_hour_personal_pc_1_0',\n",
        "       'count_Send_working_hour_personal_pc_0_0', 'count_social_webvisit',\n",
        "       'count_hacktivist_webvisit',\n",
        "       'count_File Open_doc_True_working_hour_personal_pc', 'no_bcc_dest',\n",
        "       'count_File Write_doc_False_working_hour_personal_pc']\n",
        "\n",
        "X_train_top_features = X_train_user_fine[top_features]\n",
        "X_test_top_features = X_test_user_fine[top_features]"
      ],
      "metadata": {
        "id": "fp-8VWafItZQ"
      },
      "execution_count": null,
      "outputs": []
    },
    {
      "cell_type": "markdown",
      "source": [
        "## Random Forest"
      ],
      "metadata": {
        "id": "-nR2K8vxIOqU"
      }
    },
    {
      "cell_type": "code",
      "source": [
        "# parameter tunning\n",
        "from sklearn.model_selection import RandomizedSearchCV\n",
        "from sklearn.ensemble import RandomForestClassifier\n",
        "\n",
        "param_grid = {\"max_features\": [\"sqrt\", \"log2\"], \n",
        "              \"max_depth\":[1,2,3,4,5,6,7,8,9,10, None],\n",
        "              \"class_weight\":[\"balanced\", None]}\n",
        "\n",
        "              \n",
        "rf_rand = RandomizedSearchCV(RandomForestClassifier(), param_distributions=param_grid,\n",
        "                             verbose=2, scoring=\"f1_micro\", n_iter=30)\n",
        "\n",
        "rf_rand.fit(X_train_top_features, y_train_user_fine)"
      ],
      "metadata": {
        "id": "syTB2gbnKWiU"
      },
      "execution_count": null,
      "outputs": []
    },
    {
      "cell_type": "code",
      "source": [
        "rf_rand.best_estimator_"
      ],
      "metadata": {
        "colab": {
          "base_uri": "https://localhost:8080/"
        },
        "id": "jNfgzj-OKvdS",
        "outputId": "d3c93b3d-b46e-40f8-a9fe-a1d7d03c86c2"
      },
      "execution_count": null,
      "outputs": [
        {
          "output_type": "execute_result",
          "data": {
            "text/plain": [
              "RandomForestClassifier(max_features='sqrt')"
            ]
          },
          "metadata": {},
          "execution_count": 30
        }
      ]
    },
    {
      "cell_type": "code",
      "source": [
        "# fit best model\n",
        "rf = rf_rand.best_estimator_\n",
        "rf.fit(X_train_top_features, y_train_user_fine)\n",
        "\n",
        "rf_preds = rf.predict(X_test_top_features)\n",
        "\n",
        "print(f'accuracy : {accuracy_score(y_test_user_fine,rf_preds)}')\n",
        "print(f'f1_score : {f1_score(y_test_user_fine,rf_preds)}')\n",
        "print(classification_report(y_test_user_fine , rf_preds))"
      ],
      "metadata": {
        "colab": {
          "base_uri": "https://localhost:8080/"
        },
        "id": "pK_xoCjYKya5",
        "outputId": "ca2d3fb1-7a93-41cf-af39-05333b9ae5b3"
      },
      "execution_count": null,
      "outputs": [
        {
          "output_type": "stream",
          "name": "stdout",
          "text": [
            "accuracy : 0.9941647526227575\n",
            "f1_score : 0.7938596491228069\n",
            "              precision    recall  f1-score   support\n",
            "\n",
            "           0       0.99      1.00      1.00     15840\n",
            "           1       0.97      0.67      0.79       269\n",
            "\n",
            "    accuracy                           0.99     16109\n",
            "   macro avg       0.98      0.84      0.90     16109\n",
            "weighted avg       0.99      0.99      0.99     16109\n",
            "\n"
          ]
        }
      ]
    },
    {
      "cell_type": "code",
      "source": [
        "# save model\n",
        "filename = 'random_forest.sav'\n",
        "path = os.path.join(root_path ,'Models/user_fine', filename)\n",
        "pickle.dump(rf, open(path, 'wb'))"
      ],
      "metadata": {
        "id": "BDBXtLZlRkFV"
      },
      "execution_count": null,
      "outputs": []
    },
    {
      "cell_type": "markdown",
      "source": [
        "**Based on Days**"
      ],
      "metadata": {
        "id": "BLxMV4X2LAJn"
      }
    },
    {
      "cell_type": "code",
      "source": [
        "import seaborn as sn\n",
        "import matplotlib.pyplot as plt\n",
        "from sklearn.metrics import accuracy_score,f1_score , confusion_matrix\n",
        "\n",
        "conf_matrix = confusion_matrix(y_test_user_fine, rf_preds)\n",
        "fig, ax = plt.subplots(figsize=(10,10))\n",
        "\n",
        "sn.heatmap(conf_matrix, annot=True, ax=ax, fmt='g',vmin=0)\n",
        "ax.set_ylabel(\"true label\")\n",
        "ax.set_xlabel(\"predicted label\")\n"
      ],
      "metadata": {
        "colab": {
          "base_uri": "https://localhost:8080/",
          "height": 624
        },
        "id": "Nq6qosk4LAJn",
        "outputId": "932e0794-cfb3-4a85-d701-499b457c25f6"
      },
      "execution_count": null,
      "outputs": [
        {
          "output_type": "execute_result",
          "data": {
            "text/plain": [
              "Text(0.5, 69.0, 'predicted label')"
            ]
          },
          "metadata": {},
          "execution_count": 33
        },
        {
          "output_type": "display_data",
          "data": {
            "text/plain": [
              "<Figure size 720x720 with 2 Axes>"
            ],
            "image/png": "[encoded data removed]"
          },
          "metadata": {
            "needs_background": "light"
          }
        }
      ]
    },
    {
      "cell_type": "markdown",
      "source": [
        "**Based on Users**"
      ],
      "metadata": {
        "id": "8v-J--NsLAJo"
      }
    },
    {
      "cell_type": "code",
      "source": [
        "import matplotlib.pyplot as plt\n",
        "from sklearn.metrics import accuracy_score,f1_score , confusion_matrix\n",
        "\n",
        "test_user_preds = pd.DataFrame()\n",
        "test_user_preds[\"user\"] = fine_features.loc[X_test_user_fine.index.values].user.unique()\n",
        "test_user_preds[\"gt_malicious\"] = test_user_preds['user'].apply(lambda x: int(x in mal_users_events))\n",
        "\n",
        "test_user_preds[\"pred_malicious\"] = test_user_preds['user'].apply(is_malicious_user,\n",
        "                                                                  args=[X_test_top_features, rf, fine_features])\n",
        "\n",
        "conf_matrix = confusion_matrix(test_user_preds.gt_malicious.values,\n",
        "                               test_user_preds.pred_malicious.values)\n",
        "fig, ax = plt.subplots(figsize=(10,10))\n",
        "\n",
        "sn.heatmap(conf_matrix, annot=True, ax=ax, fmt='g',vmin=0)\n",
        "ax.set_ylabel(\"true label\")\n",
        "ax.set_xlabel(\"predicted label\")\n"
      ],
      "metadata": {
        "colab": {
          "base_uri": "https://localhost:8080/",
          "height": 628
        },
        "id": "lSVaJCAGLIOI",
        "outputId": "e1407b13-e7e6-47db-b976-8ebdcbe6a27b"
      },
      "execution_count": null,
      "outputs": [
        {
          "output_type": "execute_result",
          "data": {
            "text/plain": [
              "Text(0.5, 69.0, 'predicted label')"
            ]
          },
          "metadata": {},
          "execution_count": 34
        },
        {
          "output_type": "display_data",
          "data": {
            "text/plain": [
              "<Figure size 720x720 with 2 Axes>"
            ],
            "image/png": "[encoded data removed]"
          },
          "metadata": {
            "needs_background": "light"
          }
        }
      ]
    },
    {
      "cell_type": "markdown",
      "source": [
        "##XGBoost"
      ],
      "metadata": {
        "id": "jr2GDT-TDTuy"
      }
    },
    {
      "cell_type": "code",
      "source": [
        "# parameter tunning\n",
        "from sklearn.model_selection import RandomizedSearchCV\n",
        "from xgboost import XGBClassifier\n",
        "\n",
        "param_grid = {\"subsample\": np.arange(0.5,1,0.1), \n",
        "              \"max_depth\": np.arange(3,25),\n",
        "              \"n_estimators \":np.arange(50,300)}\n",
        "\n",
        "              \n",
        "xgboost_rand = RandomizedSearchCV(XGBClassifier(), param_distributions=param_grid,\n",
        "                             verbose=2, scoring=\"f1_micro\", n_iter=30)\n",
        "xgboost_rand.fit(X_train_top_features, y_train_user_fine)"
      ],
      "metadata": {
        "id": "klPpl3-45sYg"
      },
      "execution_count": null,
      "outputs": []
    },
    {
      "cell_type": "code",
      "source": [
        "xgboost_rand.best_estimator_"
      ],
      "metadata": {
        "colab": {
          "base_uri": "https://localhost:8080/"
        },
        "outputId": "a3582485-8af3-4777-94e0-dcd45def5089",
        "id": "Qy2PvwF37F4g"
      },
      "execution_count": null,
      "outputs": [
        {
          "output_type": "execute_result",
          "data": {
            "text/plain": [
              "XGBClassifier(max_depth=7, n_estimators =112, subsample=0.8999999999999999)"
            ]
          },
          "metadata": {},
          "execution_count": 36
        }
      ]
    },
    {
      "cell_type": "code",
      "source": [
        "# fit best model\n",
        "xgboost = xgboost_rand.best_estimator_\n",
        "xgboost.fit(X_train_top_features, y_train_user_fine)\n",
        "\n",
        "xg_preds = xgboost.predict(X_test_top_features)\n",
        "\n",
        "print(f'accuracy : {accuracy_score(y_test_user_fine,xg_preds)}')\n",
        "print(f'f1_score : {f1_score(y_test_user_fine,xg_preds)}')\n",
        "print(classification_report(y_test_user_fine , xg_preds))"
      ],
      "metadata": {
        "colab": {
          "base_uri": "https://localhost:8080/"
        },
        "id": "vYMhc8747WQU",
        "outputId": "358fe9fa-0b69-4769-e6f2-994ebe92c44f"
      },
      "execution_count": null,
      "outputs": [
        {
          "output_type": "stream",
          "name": "stdout",
          "text": [
            "accuracy : 0.995716680116705\n",
            "f1_score : 0.8577319587628865\n",
            "              precision    recall  f1-score   support\n",
            "\n",
            "           0       1.00      1.00      1.00     15840\n",
            "           1       0.96      0.77      0.86       269\n",
            "\n",
            "    accuracy                           1.00     16109\n",
            "   macro avg       0.98      0.89      0.93     16109\n",
            "weighted avg       1.00      1.00      1.00     16109\n",
            "\n"
          ]
        }
      ]
    },
    {
      "cell_type": "code",
      "source": [
        "# save model\n",
        "filename = 'xgboost.sav'\n",
        "path = os.path.join(root_path ,'Models/user_fine', filename)\n",
        "pickle.dump(xgboost, open(path, 'wb'))"
      ],
      "metadata": {
        "id": "CO2Hw13cRU6X"
      },
      "execution_count": null,
      "outputs": []
    },
    {
      "cell_type": "markdown",
      "source": [
        "**Based on Days**"
      ],
      "metadata": {
        "id": "1bDs1qYFKKiw"
      }
    },
    {
      "cell_type": "code",
      "source": [
        "import seaborn as sn\n",
        "import matplotlib.pyplot as plt\n",
        "from sklearn.metrics import accuracy_score,f1_score , confusion_matrix\n",
        "\n",
        "conf_matrix = confusion_matrix(y_test_user_fine, xg_preds)\n",
        "fig, ax = plt.subplots(figsize=(10,10))\n",
        "\n",
        "sn.heatmap(conf_matrix, annot=True, ax=ax, fmt='g',vmin=0)\n",
        "ax.set_ylabel(\"true label\")\n",
        "ax.set_xlabel(\"predicted label\")\n"
      ],
      "metadata": {
        "colab": {
          "base_uri": "https://localhost:8080/",
          "height": 624
        },
        "outputId": "5921b69f-1249-4213-b68e-396d0c9ec69c",
        "id": "iX8uDn5Q7F4h"
      },
      "execution_count": null,
      "outputs": [
        {
          "output_type": "execute_result",
          "data": {
            "text/plain": [
              "Text(0.5, 69.0, 'predicted label')"
            ]
          },
          "metadata": {},
          "execution_count": 39
        },
        {
          "output_type": "display_data",
          "data": {
            "text/plain": [
              "<Figure size 720x720 with 2 Axes>"
            ],
            "image/png": "[encoded data removed]"
          },
          "metadata": {
            "needs_background": "light"
          }
        }
      ]
    },
    {
      "cell_type": "markdown",
      "source": [
        "**Based on Users**"
      ],
      "metadata": {
        "id": "0Yzha2R9KM42"
      }
    },
    {
      "cell_type": "code",
      "source": [
        "import matplotlib.pyplot as plt\n",
        "from sklearn.metrics import accuracy_score,f1_score , confusion_matrix\n",
        "\n",
        "test_user_preds = pd.DataFrame()\n",
        "test_user_preds[\"user\"] = fine_features.loc[X_test_user_fine.index.values].user.unique()\n",
        "test_user_preds[\"gt_malicious\"] = test_user_preds['user'].apply(lambda x: int(x in mal_users_events))\n",
        "\n",
        "test_user_preds[\"pred_malicious\"] = test_user_preds['user'].apply(is_malicious_user,\n",
        "                                                                  args=[X_test_top_features, xgboost, fine_features])\n",
        "\n",
        "conf_matrix = confusion_matrix(test_user_preds.gt_malicious.values,\n",
        "                               test_user_preds.pred_malicious.values)\n",
        "fig, ax = plt.subplots(figsize=(10,10))\n",
        "\n",
        "sn.heatmap(conf_matrix, annot=True, ax=ax, fmt='g',vmin=0)\n",
        "ax.set_ylabel(\"true label\")\n",
        "ax.set_xlabel(\"predicted label\")\n"
      ],
      "metadata": {
        "colab": {
          "base_uri": "https://localhost:8080/",
          "height": 624
        },
        "id": "_dUlME2cLTf4",
        "outputId": "d12f2e93-d461-4321-a30b-f62318a1a4e8"
      },
      "execution_count": null,
      "outputs": [
        {
          "output_type": "execute_result",
          "data": {
            "text/plain": [
              "Text(0.5, 69.0, 'predicted label')"
            ]
          },
          "metadata": {},
          "execution_count": 40
        },
        {
          "output_type": "display_data",
          "data": {
            "text/plain": [
              "<Figure size 720x720 with 2 Axes>"
            ],
            "image/png": "[encoded data removed]"
          },
          "metadata": {
            "needs_background": "light"
          }
        }
      ]
    },
    {
      "cell_type": "markdown",
      "source": [
        "##CatBoost"
      ],
      "metadata": {
        "id": "qy9gVsmoDTuz"
      }
    },
    {
      "cell_type": "code",
      "source": [
        "!pip install catboost"
      ],
      "metadata": {
        "id": "5aD5zvG0DTuz",
        "colab": {
          "base_uri": "https://localhost:8080/"
        },
        "outputId": "59f1ab6c-2b6b-4669-d26b-9bb0ec586d05"
      },
      "execution_count": null,
      "outputs": [
        {
          "output_type": "stream",
          "name": "stdout",
          "text": [
            "Requirement already satisfied: catboost in /usr/local/lib/python3.7/dist-packages (1.0.5)\n",
            "Requirement already satisfied: pandas>=0.24.0 in /usr/local/lib/python3.7/dist-packages (from catboost) (1.3.5)\n",
            "Requirement already satisfied: numpy>=1.16.0 in /usr/local/lib/python3.7/dist-packages (from catboost) (1.21.5)\n",
            "Requirement already satisfied: plotly in /usr/local/lib/python3.7/dist-packages (from catboost) (5.5.0)\n",
            "Requirement already satisfied: scipy in /usr/local/lib/python3.7/dist-packages (from catboost) (1.4.1)\n",
            "Requirement already satisfied: six in /usr/local/lib/python3.7/dist-packages (from catboost) (1.15.0)\n",
            "Requirement already satisfied: graphviz in /usr/local/lib/python3.7/dist-packages (from catboost) (0.10.1)\n",
            "Requirement already satisfied: matplotlib in /usr/local/lib/python3.7/dist-packages (from catboost) (3.2.2)\n",
            "Requirement already satisfied: pytz>=2017.3 in /usr/local/lib/python3.7/dist-packages (from pandas>=0.24.0->catboost) (2018.9)\n",
            "Requirement already satisfied: python-dateutil>=2.7.3 in /usr/local/lib/python3.7/dist-packages (from pandas>=0.24.0->catboost) (2.8.2)\n",
            "Requirement already satisfied: cycler>=0.10 in /usr/local/lib/python3.7/dist-packages (from matplotlib->catboost) (0.11.0)\n",
            "Requirement already satisfied: pyparsing!=2.0.4,!=2.1.2,!=2.1.6,>=2.0.1 in /usr/local/lib/python3.7/dist-packages (from matplotlib->catboost) (3.0.7)\n",
            "Requirement already satisfied: kiwisolver>=1.0.1 in /usr/local/lib/python3.7/dist-packages (from matplotlib->catboost) (1.4.0)\n",
            "Requirement already satisfied: typing-extensions in /usr/local/lib/python3.7/dist-packages (from kiwisolver>=1.0.1->matplotlib->catboost) (3.10.0.2)\n",
            "Requirement already satisfied: tenacity>=6.2.0 in /usr/local/lib/python3.7/dist-packages (from plotly->catboost) (8.0.1)\n"
          ]
        }
      ]
    },
    {
      "cell_type": "code",
      "source": [
        "from catboost import CatBoostClassifier\n",
        "\n",
        "catBoost = CatBoostClassifier()\n",
        "\n",
        "catBoost.fit(X_train_top_features, y_train_user_fine)"
      ],
      "metadata": {
        "id": "5FhGQIPJDTu0"
      },
      "execution_count": null,
      "outputs": []
    },
    {
      "cell_type": "code",
      "source": [
        "catBoost_preds = catBoost.predict(X_test_top_features)\n",
        "\n",
        "print(f'accuracy : {accuracy_score(y_test_user_fine,catBoost_preds)}')\n",
        "print(f'f1_score : {f1_score(y_test_user_fine,catBoost_preds)}')\n",
        "print(classification_report(y_test_user_fine , catBoost_preds))"
      ],
      "metadata": {
        "id": "7jg3ePaoDTu0",
        "colab": {
          "base_uri": "https://localhost:8080/"
        },
        "outputId": "ecb231f4-f47d-4341-f424-975bc47d111f"
      },
      "execution_count": null,
      "outputs": [
        {
          "output_type": "stream",
          "name": "stdout",
          "text": [
            "accuracy : 0.9951579862188838\n",
            "f1_score : 0.8458498023715414\n",
            "              precision    recall  f1-score   support\n",
            "\n",
            "           0       1.00      1.00      1.00     15840\n",
            "           1       0.90      0.80      0.85       269\n",
            "\n",
            "    accuracy                           1.00     16109\n",
            "   macro avg       0.95      0.90      0.92     16109\n",
            "weighted avg       0.99      1.00      1.00     16109\n",
            "\n"
          ]
        }
      ]
    },
    {
      "cell_type": "code",
      "source": [
        "# save model\n",
        "filename = 'catboost.sav'\n",
        "path = os.path.join(root_path ,'Models/user_fine', filename)\n",
        "pickle.dump(catBoost, open(path, 'wb'))"
      ],
      "metadata": {
        "id": "g9aIMWOERdB9"
      },
      "execution_count": null,
      "outputs": []
    },
    {
      "cell_type": "markdown",
      "source": [
        "**Based on Days**"
      ],
      "metadata": {
        "id": "15VqGy28LVYA"
      }
    },
    {
      "cell_type": "code",
      "source": [
        "\n",
        "conf_matrix = confusion_matrix(y_test_user_fine, catBoost_preds)\n",
        "fig, ax = plt.subplots(figsize=(10,10))\n",
        "\n",
        "sn.heatmap(conf_matrix, annot=True, ax=ax, fmt='g',vmin=0)\n",
        "ax.set_ylabel(\"true label\")\n",
        "ax.set_xlabel(\"predicted label\")\n"
      ],
      "metadata": {
        "colab": {
          "base_uri": "https://localhost:8080/",
          "height": 624
        },
        "id": "VQxdel5zLXE-",
        "outputId": "88d403d8-ba15-4b22-a539-73a49d61ccde"
      },
      "execution_count": null,
      "outputs": [
        {
          "output_type": "execute_result",
          "data": {
            "text/plain": [
              "Text(0.5, 69.0, 'predicted label')"
            ]
          },
          "metadata": {},
          "execution_count": 45
        },
        {
          "output_type": "display_data",
          "data": {
            "text/plain": [
              "<Figure size 720x720 with 2 Axes>"
            ],
            "image/png": "[encoded data removed]"
          },
          "metadata": {
            "needs_background": "light"
          }
        }
      ]
    },
    {
      "cell_type": "markdown",
      "source": [
        "**Based on Users**"
      ],
      "metadata": {
        "id": "rxvqfpZfLXeb"
      }
    },
    {
      "cell_type": "code",
      "source": [
        "\n",
        "test_user_preds = pd.DataFrame()\n",
        "test_user_preds[\"user\"] = fine_features.loc[X_test_user_fine.index.values].user.unique()\n",
        "test_user_preds[\"gt_malicious\"] = test_user_preds['user'].apply(lambda x: int(x in mal_users_events))\n",
        "\n",
        "test_user_preds[\"pred_malicious\"] = test_user_preds['user'].apply(is_malicious_user,\n",
        "                                                                  args=[X_test_top_features, catBoost, fine_features])\n",
        "\n",
        "conf_matrix = confusion_matrix(test_user_preds.gt_malicious.values,\n",
        "                               test_user_preds.pred_malicious.values)\n",
        "fig, ax = plt.subplots(figsize=(10,10))\n",
        "\n",
        "sn.heatmap(conf_matrix, annot=True, ax=ax, fmt='g',vmin=0)\n",
        "ax.set_ylabel(\"true label\")\n",
        "ax.set_xlabel(\"predicted label\")\n"
      ],
      "metadata": {
        "colab": {
          "base_uri": "https://localhost:8080/",
          "height": 624
        },
        "id": "mE7pWsAxLZP-",
        "outputId": "f5738812-dda3-41fc-91ef-d657b25f1eac"
      },
      "execution_count": null,
      "outputs": [
        {
          "output_type": "execute_result",
          "data": {
            "text/plain": [
              "Text(0.5, 69.0, 'predicted label')"
            ]
          },
          "metadata": {},
          "execution_count": 46
        },
        {
          "output_type": "display_data",
          "data": {
            "text/plain": [
              "<Figure size 720x720 with 2 Axes>"
            ],
            "image/png": "[encoded data removed]"
          },
          "metadata": {
            "needs_background": "light"
          }
        }
      ]
    }
  ]
}